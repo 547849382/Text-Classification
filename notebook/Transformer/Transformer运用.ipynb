{
 "cells": [
  {
   "cell_type": "markdown",
   "metadata": {},
   "source": [
    "\n",
    "经过了`Transformer学习.ipynb`后，我把那里面的代码整理到了`transformer/model.py` 和`transformer/train.py`。\n",
    "\n",
    "这样这个notebook会看起来比较简洁。主要用来绘图。\n",
    "\n",
    "然后下面的代码主要是`train.py`的主函数部分"
   ]
  },
  {
   "cell_type": "code",
   "execution_count": 1,
   "metadata": {},
   "outputs": [],
   "source": [
    "%load_ext autoreload\n",
    "%autoreload 2\n",
    "import os\n",
    "os.chdir(os.path.dirname(os.path.dirname(os.getcwd())))  # 把工作路径转到主目录下"
   ]
  },
  {
   "cell_type": "code",
   "execution_count": 2,
   "metadata": {},
   "outputs": [
    {
     "data": {
      "text/plain": [
       "'2.0.0'"
      ]
     },
     "execution_count": 2,
     "metadata": {},
     "output_type": "execute_result"
    }
   ],
   "source": [
    "import time\n",
    "import numpy as np\n",
    "import tensorflow as tf\n",
    "import matplotlib.pyplot as plt\n",
    "tf.__version__"
   ]
  },
  {
   "cell_type": "code",
   "execution_count": 3,
   "metadata": {},
   "outputs": [],
   "source": [
    "from transformer.model import TransformerClassifier\n",
    "from transformer.train import CustomSchedule"
   ]
  },
  {
   "cell_type": "markdown",
   "metadata": {},
   "source": [
    "# 训练"
   ]
  },
  {
   "cell_type": "markdown",
   "metadata": {},
   "source": [
    "## 构建数据集"
   ]
  },
  {
   "cell_type": "code",
   "execution_count": 4,
   "metadata": {},
   "outputs": [],
   "source": [
    "from utils.preprocess import load_testcnn_data, load_tokenizer_binarizer\n",
    "\n",
    "# testcnn和transformer预处理的数据是一致的\n",
    "train_x, dev_x, test_x, train_y, dev_y, test_y = load_testcnn_data()\n",
    "tokenizer, mlb = load_tokenizer_binarizer()\n",
    "BUFFER_SIZE = 256\n",
    "BATCH_SIZE = 128"
   ]
  },
  {
   "cell_type": "code",
   "execution_count": 5,
   "metadata": {},
   "outputs": [],
   "source": [
    "train_dataset = tf.data.Dataset.from_tensor_slices((train_x, train_y))\n",
    "\n",
    "# 将数据集缓存到内存中以加快读取速度。\n",
    "train_dataset = train_dataset.cache()\n",
    "train_dataset = train_dataset.shuffle(BUFFER_SIZE,reshuffle_each_iteration=True).batch(BATCH_SIZE, drop_remainder=False)\n",
    "\n",
    "# 流水线技术 重叠训练的预处理和模型训练步骤。当加速器正在执行训练步骤 N 时，CPU 开始准备步骤 N + 1 的数据。这样做可以将步骤时间减少到模型训练与抽取转换数据二者所需的最大时间（而不是二者时间总和）。\n",
    "# 没有流水线技术，CPU 和 GPU/TPU 大部分时间将处于闲置状态:\n",
    "train_dataset = train_dataset.prefetch(tf.data.experimental.AUTOTUNE)"
   ]
  },
  {
   "cell_type": "markdown",
   "metadata": {},
   "source": [
    "## 设定超参并建模"
   ]
  },
  {
   "cell_type": "code",
   "execution_count": 6,
   "metadata": {},
   "outputs": [],
   "source": [
    "num_layers = 4\n",
    "d_model = 128\n",
    "num_heads = 8\n",
    "dff = 512\n",
    "vocab_size = 50000\n",
    "maximum_position_encoding=10000\n",
    "output_dim = len(train_y[0])  # 97\n",
    "dropout_rate = 0.1\n",
    "# max_seq_len = 128\n",
    "\n",
    "steps_per_epoch = len(train_x) // BATCH_SIZE + 1\n",
    "epochs = 10"
   ]
  },
  {
   "cell_type": "code",
   "execution_count": 7,
   "metadata": {},
   "outputs": [],
   "source": [
    "model = TransformerClassifier(num_layers, d_model, num_heads, dff, vocab_size, \n",
    "                                    maximum_position_encoding, output_dim, dropout_rate)"
   ]
  },
  {
   "cell_type": "markdown",
   "metadata": {},
   "source": [
    "## 学习率"
   ]
  },
  {
   "cell_type": "code",
   "execution_count": 8,
   "metadata": {},
   "outputs": [],
   "source": [
    "learning_rate = CustomSchedule(d_model)\n",
    "# 配置优化器\n",
    "optimizer = tf.keras.optimizers.Adam(learning_rate, beta_1=0.9, beta_2=0.98, \n",
    "                                     epsilon=1e-9)"
   ]
  },
  {
   "cell_type": "markdown",
   "metadata": {},
   "source": [
    "## 评估指标和损失函数"
   ]
  },
  {
   "cell_type": "code",
   "execution_count": 9,
   "metadata": {},
   "outputs": [],
   "source": [
    "from utils.metrics import micro_f1, macro_f1, precision_recall\n",
    "train_loss = tf.keras.metrics.Mean(name='train_loss')\n",
    "train_accuracy = tf.keras.metrics.BinaryAccuracy(name='train_accuracy')\n",
    "\n",
    "loss_object = tf.keras.losses.BinaryCrossentropy(from_logits=True, reduction='auto')"
   ]
  },
  {
   "cell_type": "markdown",
   "metadata": {},
   "source": [
    "## checkpoint"
   ]
  },
  {
   "cell_type": "code",
   "execution_count": 10,
   "metadata": {},
   "outputs": [],
   "source": [
    "checkpoint_path = \"notebook/Transformer/checkpoints/train\"\n",
    "\n",
    "ckpt = tf.train.Checkpoint(transformer=model,\n",
    "                           optimizer=optimizer)\n",
    "\n",
    "ckpt_manager = tf.train.CheckpointManager(ckpt, checkpoint_path, max_to_keep=1)\n",
    "\n",
    "# 如果检查点存在，则恢复最新的检查点。\n",
    "if ckpt_manager.latest_checkpoint:\n",
    "    ckpt.restore(ckpt_manager.latest_checkpoint)\n",
    "    print ('Latest checkpoint restored!!')"
   ]
  },
  {
   "cell_type": "markdown",
   "metadata": {},
   "source": [
    "## **Training**"
   ]
  },
  {
   "cell_type": "code",
   "execution_count": 11,
   "metadata": {},
   "outputs": [],
   "source": [
    "from transformer.train import predict, evaluation, create_padding_mask"
   ]
  },
  {
   "cell_type": "markdown",
   "metadata": {},
   "source": [
    "之前的训练代码是这样的，但是我为了更好的分析结果。需要把这个代码改动一下"
   ]
  },
  {
   "cell_type": "code",
   "execution_count": 12,
   "metadata": {
    "code_folding": [
     0
    ]
   },
   "outputs": [],
   "source": [
    "def training():\n",
    "    # 该 @tf.function 将追踪-编译 train_step 到 TF 图中，以便更快地\n",
    "    # 执行。该函数专用于参数张量的精确形状。为了避免由于可变序列长度或可变\n",
    "    # 批次大小（最后一批次较小）导致的再追踪，使用 input_signature 指定\n",
    "    # 更多的通用形状。\n",
    "    # 这里填的128指的是句子的长度\n",
    "    train_step_signature = [\n",
    "        tf.TensorSpec(shape=(None, 128), dtype=tf.float32),\n",
    "        tf.TensorSpec(shape=(None, None), dtype=tf.float32),\n",
    "    ]\n",
    "\n",
    "    @tf.function(input_signature=train_step_signature)\n",
    "    def train_step(x, y):\n",
    "\n",
    "        enc_padding_mask = create_padding_mask(x)\n",
    "        with tf.GradientTape() as tape:\n",
    "            y_pred = model(x, training=True, enc_padding_mask=enc_padding_mask)\n",
    "            loss = loss_object(y, y_pred)\n",
    "\n",
    "        grads = tape.gradient(loss, model.trainable_variables)\n",
    "        optimizer.apply_gradients(zip(grads, model.trainable_variables))\n",
    "\n",
    "        train_loss(loss)\n",
    "        train_accuracy(y, y_pred)\n",
    "\n",
    "        mi_f1=micro_f1(y, y_pred)\n",
    "        ma_f1=macro_f1(y, y_pred)\n",
    "        return mi_f1, ma_f1, y_pred\n",
    "\n",
    "\n",
    "    # 训练\n",
    "    for epoch in range(epochs):\n",
    "        start = time.time()\n",
    "\n",
    "        train_loss.reset_states()\n",
    "        train_accuracy.reset_states()\n",
    "\n",
    "        for batch, (x, y) in enumerate(train_dataset.take(steps_per_epoch)):\n",
    "            mi_f1 ,ma_f1, _ = train_step(x, y)\n",
    "\n",
    "            if batch % 20 == 0:\n",
    "                print('epoch {} batch {:3d} loss {:.4f} acc {:.4f} micro_f1 {:.4f} macro_f1 {:.4f}'.format(\n",
    "                    epoch+1, batch+1, train_loss.result(), \n",
    "                    train_accuracy.result(), mi_f1, ma_f1))\n",
    "            break\n",
    "        # 每隔5轮保存一下        \n",
    "        if (epoch + 1) % 5 == 0:\n",
    "            ckpt_save_path = ckpt_manager.save()\n",
    "            print ('Saving checkpoint for epoch {} at {}'.format(epoch+1,\n",
    "                                                             ckpt_save_path))\n",
    "\n",
    "        print('Epoch {} Loss {:.4f}'.format(epoch + 1, train_loss.result()))\n",
    "        evaluation(dev_x, dev_y)\n",
    "        print('Time taken for 1 epoch {:.2f} sec\\n'.format(time.time() - start))"
   ]
  },
  {
   "cell_type": "markdown",
   "metadata": {},
   "source": [
    "## 训练"
   ]
  },
  {
   "cell_type": "code",
   "execution_count": 13,
   "metadata": {
    "scrolled": true
   },
   "outputs": [
    {
     "name": "stdout",
     "output_type": "stream",
     "text": [
      "epoch 1 batch   1 loss 0.9150\n",
      "epoch 1 batch  51 loss 0.4988\n",
      "epoch 1 batch 101 loss 0.3292\n",
      "Epoch 1 Loss 0.2699\n",
      "dev precision 0.7106 recall 0.1080 micro f1 0.1875 macro f1 0.0147\n",
      "train precision 0.0788 recall 0.0915 micro f1 0.0847 macro f1 0.0290\n",
      "Time taken for 1 epoch 55.27 sec\n",
      "\n",
      "epoch 2 batch   1 loss 0.1425\n",
      "epoch 2 batch  51 loss 0.1284\n",
      "epoch 2 batch 101 loss 0.1143\n",
      "Epoch 2 Loss 0.1025\n",
      "dev precision 0.8436 recall 0.5694 micro f1 0.6799 macro f1 0.3080\n",
      "train precision 0.8676 recall 0.3155 micro f1 0.4627 macro f1 0.1273\n",
      "Time taken for 1 epoch 40.88 sec\n",
      "\n",
      "epoch 3 batch   1 loss 0.0730\n",
      "epoch 3 batch  51 loss 0.0624\n",
      "epoch 3 batch 101 loss 0.0565\n",
      "Epoch 3 Loss 0.0522\n",
      "dev precision 0.8507 recall 0.7773 micro f1 0.8124 macro f1 0.6107\n",
      "train precision 0.8947 recall 0.6399 micro f1 0.7462 macro f1 0.4640\n",
      "Time taken for 1 epoch 40.18 sec\n",
      "\n",
      "epoch 4 batch   1 loss 0.0393\n",
      "epoch 4 batch  51 loss 0.0388\n",
      "epoch 4 batch 101 loss 0.0371\n",
      "Epoch 4 Loss 0.0350\n",
      "dev precision 0.8673 recall 0.8162 micro f1 0.8410 macro f1 0.6861\n",
      "train precision 0.9130 recall 0.7739 micro f1 0.8377 macro f1 0.6650\n",
      "Time taken for 1 epoch 40.93 sec\n",
      "\n",
      "epoch 5 batch   1 loss 0.0325\n",
      "epoch 5 batch  51 loss 0.0303\n",
      "epoch 5 batch 101 loss 0.0288\n",
      "Epoch 5 Loss 0.0274\n",
      "dev precision 0.8307 recall 0.8648 micro f1 0.8474 macro f1 0.7564\n",
      "train precision 0.9233 recall 0.8361 micro f1 0.8776 macro f1 0.7651\n",
      "Time taken for 1 epoch 40.87 sec\n",
      "\n",
      "epoch 6 batch   1 loss 0.0292\n",
      "epoch 6 batch  51 loss 0.0233\n",
      "epoch 6 batch 101 loss 0.0227\n",
      "Epoch 6 Loss 0.0222\n",
      "dev precision 0.7043 recall 0.8645 micro f1 0.7762 macro f1 0.7450\n",
      "train precision 0.9363 recall 0.8699 micro f1 0.9019 macro f1 0.8214\n",
      "Time taken for 1 epoch 42.84 sec\n",
      "\n",
      "epoch 7 batch   1 loss 0.0462\n",
      "epoch 7 batch  51 loss 0.0241\n",
      "epoch 7 batch 101 loss 0.0214\n",
      "Epoch 7 Loss 0.0198\n",
      "dev precision 0.8938 recall 0.8628 micro f1 0.8780 macro f1 0.7907\n",
      "train precision 0.9404 recall 0.8892 micro f1 0.9141 macro f1 0.8575\n",
      "Time taken for 1 epoch 42.11 sec\n",
      "\n",
      "epoch 8 batch   1 loss 0.0165\n",
      "epoch 8 batch  51 loss 0.0186\n",
      "epoch 8 batch 101 loss 0.0177\n",
      "Epoch 8 Loss 0.0167\n",
      "dev precision 0.8739 recall 0.8943 micro f1 0.8840 macro f1 0.8202\n",
      "train precision 0.9487 recall 0.9050 micro f1 0.9264 macro f1 0.8767\n",
      "Time taken for 1 epoch 40.42 sec\n",
      "\n",
      "epoch 9 batch   1 loss 0.0112\n",
      "epoch 9 batch  51 loss 0.0151\n",
      "epoch 9 batch 101 loss 0.0149\n",
      "Epoch 9 Loss 0.0142\n",
      "dev precision 0.9024 recall 0.8692 micro f1 0.8855 macro f1 0.8168\n",
      "train precision 0.9565 recall 0.9208 micro f1 0.9383 macro f1 0.9028\n",
      "Time taken for 1 epoch 40.38 sec\n",
      "\n",
      "epoch 10 batch   1 loss 0.0146\n",
      "epoch 10 batch  51 loss 0.0149\n",
      "epoch 10 batch 101 loss 0.0143\n",
      "Epoch 10 Loss 0.0136\n",
      "dev precision 0.8934 recall 0.8945 micro f1 0.8939 macro f1 0.8321\n",
      "train precision 0.9579 recall 0.9247 micro f1 0.9410 macro f1 0.9083\n",
      "Time taken for 1 epoch 41.01 sec\n",
      "\n"
     ]
    }
   ],
   "source": [
    "train_step_signature = [\n",
    "    tf.TensorSpec(shape=(None, 128), dtype=tf.float32),\n",
    "    tf.TensorSpec(shape=(None, None), dtype=tf.float32),\n",
    "]\n",
    "\n",
    "@tf.function(input_signature=train_step_signature)\n",
    "def train_step(x, y):\n",
    "\n",
    "    enc_padding_mask = create_padding_mask(x)\n",
    "    with tf.GradientTape() as tape:\n",
    "        y_pred = model(x, training=True, enc_padding_mask=enc_padding_mask)\n",
    "        loss = loss_object(y, y_pred)\n",
    "\n",
    "    grads = tape.gradient(loss, model.trainable_variables)\n",
    "    optimizer.apply_gradients(zip(grads, model.trainable_variables))\n",
    "\n",
    "    train_loss(loss)\n",
    "    train_accuracy(y, y_pred)\n",
    "    \n",
    "    return y_pred\n",
    "\n",
    "loss_record = []\n",
    "# 为了之后绘制曲线\n",
    "dev_metrics = []\n",
    "train_metrics = []\n",
    "\n",
    "for epoch in range(epochs):\n",
    "    start = time.time()\n",
    "    \n",
    "    train_loss.reset_states()\n",
    "    train_accuracy.reset_states()\n",
    "    \n",
    "    train_y_true = []\n",
    "    train_y_pred = []\n",
    "    \n",
    "    \n",
    "    for batch, (x, y) in enumerate(train_dataset.take(steps_per_epoch)):\n",
    "        y_pred = train_step(x, y)\n",
    "        train_y_pred.append(y_pred)\n",
    "        train_y_true.append(y)\n",
    "        if batch % 50 == 0:\n",
    "            print('epoch {} batch {:3d} loss {:.4f}'.format(\n",
    "                epoch+1, batch+1, train_loss.result()))\n",
    "            \n",
    "    loss_record.append(train_loss.result().numpy())  # 记录下每轮loss的变化\n",
    "    print('Epoch {} Loss {:.4f}'.format(epoch + 1, train_loss.result()))\n",
    "    \n",
    "    dev_y_true = tf.cast(dev_y, tf.float32)\n",
    "    dev_y_pred = predict(model, dev_x)\n",
    "    \n",
    "    train_y_true = tf.concat(train_y_true, axis=0)\n",
    "    train_y_pred = tf.concat(train_y_pred, axis=0)\n",
    "    \n",
    "    dev_precision, dev_recall = precision_recall(dev_y_true, dev_y_pred)\n",
    "    dev_micro_f1 = micro_f1(dev_y_true, dev_y_pred)\n",
    "    dev_macro_f1 = macro_f1(dev_y_true, dev_y_pred)\n",
    "    \n",
    "    train_precision, train_recall = precision_recall(train_y_true, train_y_pred)\n",
    "    train_micro_f1 = micro_f1(train_y_true, train_y_pred)\n",
    "    train_macro_f1 = macro_f1(train_y_true, train_y_pred)\n",
    "    \n",
    "    dev_metrics.append([dev_precision.numpy(), dev_recall.numpy(), \n",
    "                        dev_micro_f1.numpy(), dev_macro_f1.numpy()])\n",
    "    \n",
    "    train_metrics.append([train_precision.numpy(), train_recall.numpy(), \n",
    "                          train_micro_f1.numpy(), train_macro_f1.numpy()])\n",
    "    \n",
    "    print('dev precision {:.4f} recall {:.4f} micro f1 {:.4f} macro f1 {:.4f}'.format(\n",
    "            dev_precision, dev_recall, dev_micro_f1, dev_macro_f1))\n",
    "    \n",
    "    print('train precision {:.4f} recall {:.4f} micro f1 {:.4f} macro f1 {:.4f}'.format(\n",
    "            train_precision, train_recall, train_micro_f1, train_macro_f1))\n",
    "    \n",
    "    print('Time taken for 1 epoch {:.2f} sec\\n'.format(time.time() - start))"
   ]
  },
  {
   "cell_type": "markdown",
   "metadata": {},
   "source": [
    "# 绘图"
   ]
  },
  {
   "cell_type": "code",
   "execution_count": 14,
   "metadata": {},
   "outputs": [],
   "source": [
    "import pandas as pd"
   ]
  },
  {
   "cell_type": "code",
   "execution_count": 15,
   "metadata": {},
   "outputs": [],
   "source": [
    "# history = pd.read_csv('notebook/Transformer/transformer_report.csv')"
   ]
  },
  {
   "cell_type": "code",
   "execution_count": 16,
   "metadata": {},
   "outputs": [],
   "source": [
    "history = pd.DataFrame(np.concatenate([dev_metrics, train_metrics], axis=1),\n",
    "                        columns=['dev_precision', 'dev_recall', 'dev_micro_f1', 'dev_macro_f1',\n",
    "                                 'train_precision', 'train_recall', 'train_micro_f1', 'train_macro_f1'])"
   ]
  },
  {
   "cell_type": "code",
   "execution_count": 17,
   "metadata": {},
   "outputs": [
    {
     "data": {
      "text/html": [
       "<div>\n",
       "<style scoped>\n",
       "    .dataframe tbody tr th:only-of-type {\n",
       "        vertical-align: middle;\n",
       "    }\n",
       "\n",
       "    .dataframe tbody tr th {\n",
       "        vertical-align: top;\n",
       "    }\n",
       "\n",
       "    .dataframe thead th {\n",
       "        text-align: right;\n",
       "    }\n",
       "</style>\n",
       "<table border=\"1\" class=\"dataframe\">\n",
       "  <thead>\n",
       "    <tr style=\"text-align: right;\">\n",
       "      <th></th>\n",
       "      <th>dev_precision</th>\n",
       "      <th>dev_recall</th>\n",
       "      <th>dev_micro_f1</th>\n",
       "      <th>dev_macro_f1</th>\n",
       "      <th>train_precision</th>\n",
       "      <th>train_recall</th>\n",
       "      <th>train_micro_f1</th>\n",
       "      <th>train_macro_f1</th>\n",
       "    </tr>\n",
       "  </thead>\n",
       "  <tbody>\n",
       "    <tr>\n",
       "      <th>1</th>\n",
       "      <td>0.710552</td>\n",
       "      <td>0.107983</td>\n",
       "      <td>0.187476</td>\n",
       "      <td>0.014730</td>\n",
       "      <td>0.078795</td>\n",
       "      <td>0.091452</td>\n",
       "      <td>0.084653</td>\n",
       "      <td>0.029014</td>\n",
       "    </tr>\n",
       "    <tr>\n",
       "      <th>2</th>\n",
       "      <td>0.843607</td>\n",
       "      <td>0.569358</td>\n",
       "      <td>0.679867</td>\n",
       "      <td>0.307979</td>\n",
       "      <td>0.867553</td>\n",
       "      <td>0.315513</td>\n",
       "      <td>0.462737</td>\n",
       "      <td>0.127267</td>\n",
       "    </tr>\n",
       "    <tr>\n",
       "      <th>3</th>\n",
       "      <td>0.850693</td>\n",
       "      <td>0.777331</td>\n",
       "      <td>0.812359</td>\n",
       "      <td>0.610683</td>\n",
       "      <td>0.894702</td>\n",
       "      <td>0.639930</td>\n",
       "      <td>0.746168</td>\n",
       "      <td>0.463982</td>\n",
       "    </tr>\n",
       "    <tr>\n",
       "      <th>4</th>\n",
       "      <td>0.867317</td>\n",
       "      <td>0.816205</td>\n",
       "      <td>0.840985</td>\n",
       "      <td>0.686140</td>\n",
       "      <td>0.913005</td>\n",
       "      <td>0.773923</td>\n",
       "      <td>0.837731</td>\n",
       "      <td>0.665046</td>\n",
       "    </tr>\n",
       "    <tr>\n",
       "      <th>5</th>\n",
       "      <td>0.830734</td>\n",
       "      <td>0.864760</td>\n",
       "      <td>0.847406</td>\n",
       "      <td>0.756386</td>\n",
       "      <td>0.923346</td>\n",
       "      <td>0.836141</td>\n",
       "      <td>0.877582</td>\n",
       "      <td>0.765086</td>\n",
       "    </tr>\n",
       "    <tr>\n",
       "      <th>6</th>\n",
       "      <td>0.704295</td>\n",
       "      <td>0.864512</td>\n",
       "      <td>0.776223</td>\n",
       "      <td>0.745042</td>\n",
       "      <td>0.936293</td>\n",
       "      <td>0.869865</td>\n",
       "      <td>0.901857</td>\n",
       "      <td>0.821359</td>\n",
       "    </tr>\n",
       "    <tr>\n",
       "      <th>7</th>\n",
       "      <td>0.893752</td>\n",
       "      <td>0.862824</td>\n",
       "      <td>0.878016</td>\n",
       "      <td>0.790739</td>\n",
       "      <td>0.940403</td>\n",
       "      <td>0.889243</td>\n",
       "      <td>0.914108</td>\n",
       "      <td>0.857508</td>\n",
       "    </tr>\n",
       "    <tr>\n",
       "      <th>8</th>\n",
       "      <td>0.873908</td>\n",
       "      <td>0.894300</td>\n",
       "      <td>0.883987</td>\n",
       "      <td>0.820166</td>\n",
       "      <td>0.948741</td>\n",
       "      <td>0.905036</td>\n",
       "      <td>0.926373</td>\n",
       "      <td>0.876720</td>\n",
       "    </tr>\n",
       "    <tr>\n",
       "      <th>9</th>\n",
       "      <td>0.902376</td>\n",
       "      <td>0.869179</td>\n",
       "      <td>0.885466</td>\n",
       "      <td>0.816779</td>\n",
       "      <td>0.956480</td>\n",
       "      <td>0.920840</td>\n",
       "      <td>0.938322</td>\n",
       "      <td>0.902797</td>\n",
       "    </tr>\n",
       "    <tr>\n",
       "      <th>10</th>\n",
       "      <td>0.893351</td>\n",
       "      <td>0.894549</td>\n",
       "      <td>0.893950</td>\n",
       "      <td>0.832097</td>\n",
       "      <td>0.957914</td>\n",
       "      <td>0.924662</td>\n",
       "      <td>0.940994</td>\n",
       "      <td>0.908318</td>\n",
       "    </tr>\n",
       "  </tbody>\n",
       "</table>\n",
       "</div>"
      ],
      "text/plain": [
       "    dev_precision  dev_recall  dev_micro_f1  dev_macro_f1  train_precision  \\\n",
       "1        0.710552    0.107983      0.187476      0.014730         0.078795   \n",
       "2        0.843607    0.569358      0.679867      0.307979         0.867553   \n",
       "3        0.850693    0.777331      0.812359      0.610683         0.894702   \n",
       "4        0.867317    0.816205      0.840985      0.686140         0.913005   \n",
       "5        0.830734    0.864760      0.847406      0.756386         0.923346   \n",
       "6        0.704295    0.864512      0.776223      0.745042         0.936293   \n",
       "7        0.893752    0.862824      0.878016      0.790739         0.940403   \n",
       "8        0.873908    0.894300      0.883987      0.820166         0.948741   \n",
       "9        0.902376    0.869179      0.885466      0.816779         0.956480   \n",
       "10       0.893351    0.894549      0.893950      0.832097         0.957914   \n",
       "\n",
       "    train_recall  train_micro_f1  train_macro_f1  \n",
       "1       0.091452        0.084653        0.029014  \n",
       "2       0.315513        0.462737        0.127267  \n",
       "3       0.639930        0.746168        0.463982  \n",
       "4       0.773923        0.837731        0.665046  \n",
       "5       0.836141        0.877582        0.765086  \n",
       "6       0.869865        0.901857        0.821359  \n",
       "7       0.889243        0.914108        0.857508  \n",
       "8       0.905036        0.926373        0.876720  \n",
       "9       0.920840        0.938322        0.902797  \n",
       "10      0.924662        0.940994        0.908318  "
      ]
     },
     "execution_count": 17,
     "metadata": {},
     "output_type": "execute_result"
    }
   ],
   "source": [
    "history.index += 1\n",
    "history"
   ]
  },
  {
   "cell_type": "code",
   "execution_count": 18,
   "metadata": {},
   "outputs": [],
   "source": [
    "import matplotlib.pyplot as plt"
   ]
  },
  {
   "cell_type": "code",
   "execution_count": 19,
   "metadata": {
    "scrolled": false
   },
   "outputs": [
    {
     "data": {
      "image/png": "[encoded data removed]",
      "text/plain": [
       "<Figure size 1200x400 with 2 Axes>"
      ]
     },
     "metadata": {
      "needs_background": "light"
     },
     "output_type": "display_data"
    }
   ],
   "source": [
    "fig, ax = plt.subplots(1, 2, figsize=(12,4), dpi=100)\n",
    "ax[0].plot(history.dev_micro_f1, c='b', marker='o', mfc='w', mew=2, label='dev_micro_f1')\n",
    "ax[0].plot(history.dev_macro_f1, c='b', marker='^', mfc='w', mew=2, label='dev_macro_f1')\n",
    "ax[0].plot(history.train_micro_f1, c='orange', marker='o', mfc='w', mew=2, label='train_micro_f1')\n",
    "ax[0].plot(history.train_macro_f1, c='orange', marker='^', mfc='w', mew=2, label='train_macro_f1')\n",
    "ax[0].set_xlabel('epochs')\n",
    "ax[0].legend()\n",
    "\n",
    "ax[1].plot(history.dev_precision, c='c', marker='o', mfc='w', mew=2, label='dev_precision')\n",
    "ax[1].plot(history.dev_recall, c='c', marker='^', mfc='w', mew=2, label='dev_recall')\n",
    "ax[1].plot(history.train_precision, c='pink', marker='o', mfc='w', mew=2, label='train_precision')\n",
    "ax[1].plot(history.train_recall, c='pink', marker='^', mfc='w', mew=2, label='train_recall')\n",
    "ax[1].set_xlabel('epochs')\n",
    "ax[1].legend()\n",
    "fig.suptitle('Transformer')\n",
    "plt.show()"
   ]
  },
  {
   "cell_type": "code",
   "execution_count": 20,
   "metadata": {},
   "outputs": [],
   "source": [
    "history.to_csv('notebook/Transformer/transformer_report.csv', index=None)"
   ]
  },
  {
   "cell_type": "markdown",
   "metadata": {},
   "source": [
    "# 预测"
   ]
  },
  {
   "cell_type": "code",
   "execution_count": 21,
   "metadata": {},
   "outputs": [],
   "source": [
    "# y_pred = np.load('notebook/Transformer/test_y_pred.npy')\n",
    "y_pred = predict(model, test_x)\n",
    "test_micro_f1 = micro_f1(test_y, y_pred)\n",
    "test_macro_f1 = macro_f1(test_y, y_pred)\n",
    "test_precision, test_recall = precision_recall(test_y, y_pred)"
   ]
  },
  {
   "cell_type": "code",
   "execution_count": 22,
   "metadata": {},
   "outputs": [],
   "source": [
    "np.save('notebook/Transformer/test_y_pred.npy', y_pred)"
   ]
  },
  {
   "cell_type": "code",
   "execution_count": 23,
   "metadata": {},
   "outputs": [
    {
     "name": "stdout",
     "output_type": "stream",
     "text": [
      "test micro f1: 0.8858 macro f1: 0.8200\n",
      "test precision: 0.8860 recall: 0.8857\n"
     ]
    }
   ],
   "source": [
    "print('test micro f1: {:.4f} macro f1: {:.4f}'.format(\n",
    "    test_micro_f1, test_macro_f1))\n",
    "\n",
    "print('test precision: {:.4f} recall: {:.4f}'.format(\n",
    "    test_precision, test_recall))"
   ]
  },
  {
   "cell_type": "markdown",
   "metadata": {},
   "source": [
    "## metrics\n",
    "- TP : 预测是正样本，且实际也是正样本\n",
    "- recall : TP / 实际是正样本\n",
    "- precision : TP / 预测是正样本"
   ]
  }
 ],
 "metadata": {
  "kernelspec": {
   "display_name": "Python [conda env:tf2.0]",
   "language": "python",
   "name": "conda-env-tf2.0-py"
  },
  "language_info": {
   "codemirror_mode": {
    "name": "ipython",
    "version": 3
   },
   "file_extension": ".py",
   "mimetype": "text/x-python",
   "name": "python",
   "nbconvert_exporter": "python",
   "pygments_lexer": "ipython3",
   "version": "3.7.4"
  },
  "toc": {
   "base_numbering": 1,
   "nav_menu": {},
   "number_sections": true,
   "sideBar": true,
   "skip_h1_title": false,
   "title_cell": "Table of Contents",
   "title_sidebar": "Contents",
   "toc_cell": false,
   "toc_position": {},
   "toc_section_display": true,
   "toc_window_display": true
  },
  "varInspector": {
   "cols": {
    "lenName": 16,
    "lenType": 16,
    "lenVar": 40
   },
   "kernels_config": {
    "python": {
     "delete_cmd_postfix": "",
     "delete_cmd_prefix": "del ",
     "library": "var_list.py",
     "varRefreshCmd": "print(var_dic_list())"
    },
    "r": {
     "delete_cmd_postfix": ") ",
     "delete_cmd_prefix": "rm(",
     "library": "var_list.r",
     "varRefreshCmd": "cat(var_dic_list()) "
    }
   },
   "types_to_exclude": [
    "module",
    "function",
    "builtin_function_or_method",
    "instance",
    "_Feature"
   ],
   "window_display": false
  }
 },
 "nbformat": 4,
 "nbformat_minor": 2
}
