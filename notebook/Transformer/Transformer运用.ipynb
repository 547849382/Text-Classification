{
 "cells": [
  {
   "cell_type": "markdown",
   "metadata": {},
   "source": [
    "\n",
    "经过了`Transformer学习.ipynb`后，我把那里面的代码整理到了`transformer/model.py` 和`transformer/train.py`。\n",
    "\n",
    "这样这个notebook会看起来比较简洁。主要用来绘图。\n",
    "\n",
    "然后下面的代码主要是`train.py`的主函数部分"
   ]
  },
  {
   "cell_type": "code",
   "execution_count": 2,
   "metadata": {},
   "outputs": [],
   "source": [
    "%load_ext autoreload\n",
    "%autoreload 2\n",
    "import os\n",
    "os.chdir(os.path.dirname(os.path.dirname(os.getcwd())))  # 把工作路径转到主目录下"
   ]
  },
  {
   "cell_type": "code",
   "execution_count": 3,
   "metadata": {},
   "outputs": [
    {
     "data": {
      "text/plain": [
       "'2.0.0'"
      ]
     },
     "execution_count": 3,
     "metadata": {},
     "output_type": "execute_result"
    }
   ],
   "source": [
    "import time\n",
    "import numpy as np\n",
    "import tensorflow as tf\n",
    "import matplotlib.pyplot as plt\n",
    "tf.__version__"
   ]
  },
  {
   "cell_type": "code",
   "execution_count": 4,
   "metadata": {},
   "outputs": [],
   "source": [
    "from transformer.model import TransformerClassifier\n",
    "from transformer.train import CustomSchedule"
   ]
  },
  {
   "cell_type": "markdown",
   "metadata": {},
   "source": [
    "# 训练"
   ]
  },
  {
   "cell_type": "markdown",
   "metadata": {},
   "source": [
    "## 构建数据集"
   ]
  },
  {
   "cell_type": "code",
   "execution_count": 4,
   "metadata": {},
   "outputs": [],
   "source": [
    "from utils.preprocess import load_testcnn_data, load_tokenizer_binarizer\n",
    "\n",
    "# testcnn和transformer预处理的数据是一致的\n",
    "train_x, dev_x, test_x, train_y, dev_y, test_y = load_testcnn_data()\n",
    "tokenizer, mlb = load_tokenizer_binarizer()\n",
    "BUFFER_SIZE = 256\n",
    "BATCH_SIZE = 128"
   ]
  },
  {
   "cell_type": "code",
   "execution_count": 5,
   "metadata": {},
   "outputs": [],
   "source": [
    "train_dataset = tf.data.Dataset.from_tensor_slices((train_x, train_y))\n",
    "\n",
    "# 将数据集缓存到内存中以加快读取速度。\n",
    "train_dataset = train_dataset.cache()\n",
    "train_dataset = train_dataset.shuffle(BUFFER_SIZE,reshuffle_each_iteration=True).batch(BATCH_SIZE, drop_remainder=False)\n",
    "\n",
    "# 流水线技术 重叠训练的预处理和模型训练步骤。当加速器正在执行训练步骤 N 时，CPU 开始准备步骤 N + 1 的数据。这样做可以将步骤时间减少到模型训练与抽取转换数据二者所需的最大时间（而不是二者时间总和）。\n",
    "# 没有流水线技术，CPU 和 GPU/TPU 大部分时间将处于闲置状态:\n",
    "train_dataset = train_dataset.prefetch(tf.data.experimental.AUTOTUNE)"
   ]
  },
  {
   "cell_type": "markdown",
   "metadata": {},
   "source": [
    "## 设定超参并建模"
   ]
  },
  {
   "cell_type": "code",
   "execution_count": 6,
   "metadata": {},
   "outputs": [],
   "source": [
    "num_layers = 4\n",
    "d_model = 128\n",
    "num_heads = 8\n",
    "dff = 512\n",
    "vocab_size = 50000\n",
    "maximum_position_encoding=10000\n",
    "output_dim = len(train_y[0])  # 97\n",
    "dropout_rate = 0.1\n",
    "# max_seq_len = 128\n",
    "\n",
    "steps_per_epoch = len(train_x) // BATCH_SIZE + 1\n",
    "epochs = 10"
   ]
  },
  {
   "cell_type": "code",
   "execution_count": 7,
   "metadata": {},
   "outputs": [],
   "source": [
    "model = TransformerClassifier(num_layers, d_model, num_heads, dff, vocab_size, \n",
    "                                    maximum_position_encoding, output_dim, dropout_rate)"
   ]
  },
  {
   "cell_type": "markdown",
   "metadata": {},
   "source": [
    "## 学习率"
   ]
  },
  {
   "cell_type": "code",
   "execution_count": 8,
   "metadata": {},
   "outputs": [],
   "source": [
    "learning_rate = CustomSchedule(d_model)\n",
    "# 配置优化器\n",
    "optimizer = tf.keras.optimizers.Adam(learning_rate, beta_1=0.9, beta_2=0.98, \n",
    "                                     epsilon=1e-9)"
   ]
  },
  {
   "cell_type": "markdown",
   "metadata": {},
   "source": [
    "## 评估指标和损失函数"
   ]
  },
  {
   "cell_type": "code",
   "execution_count": 9,
   "metadata": {},
   "outputs": [],
   "source": [
    "from utils.metrics import micro_f1, macro_f1\n",
    "train_loss = tf.keras.metrics.Mean(name='train_loss')\n",
    "train_accuracy = tf.keras.metrics.BinaryAccuracy(name='train_accuracy')\n",
    "\n",
    "loss_object = tf.keras.losses.BinaryCrossentropy(from_logits=True, reduction='auto')"
   ]
  },
  {
   "cell_type": "markdown",
   "metadata": {},
   "source": [
    "## checkpoint"
   ]
  },
  {
   "cell_type": "code",
   "execution_count": 10,
   "metadata": {},
   "outputs": [],
   "source": [
    "checkpoint_path = \"notebook/Transformer/checkpoints/train\"\n",
    "\n",
    "ckpt = tf.train.Checkpoint(transformer=model,\n",
    "                           optimizer=optimizer)\n",
    "\n",
    "ckpt_manager = tf.train.CheckpointManager(ckpt, checkpoint_path, max_to_keep=1)\n",
    "\n",
    "# 如果检查点存在，则恢复最新的检查点。\n",
    "if ckpt_manager.latest_checkpoint:\n",
    "    ckpt.restore(ckpt_manager.latest_checkpoint)\n",
    "    print ('Latest checkpoint restored!!')"
   ]
  },
  {
   "cell_type": "markdown",
   "metadata": {},
   "source": [
    "## **Training**"
   ]
  },
  {
   "cell_type": "code",
   "execution_count": 11,
   "metadata": {},
   "outputs": [],
   "source": [
    "from transformer.train import predict, evaluation, create_padding_mask"
   ]
  },
  {
   "cell_type": "markdown",
   "metadata": {},
   "source": [
    "之前的训练代码是这样的，但是我为了更好的分析结果。需要把这个代码改动一下"
   ]
  },
  {
   "cell_type": "code",
   "execution_count": 12,
   "metadata": {
    "code_folding": [
     0
    ]
   },
   "outputs": [],
   "source": [
    "def training():\n",
    "    # 该 @tf.function 将追踪-编译 train_step 到 TF 图中，以便更快地\n",
    "    # 执行。该函数专用于参数张量的精确形状。为了避免由于可变序列长度或可变\n",
    "    # 批次大小（最后一批次较小）导致的再追踪，使用 input_signature 指定\n",
    "    # 更多的通用形状。\n",
    "    # 这里填的128指的是句子的长度\n",
    "    train_step_signature = [\n",
    "        tf.TensorSpec(shape=(None, 128), dtype=tf.float32),\n",
    "        tf.TensorSpec(shape=(None, None), dtype=tf.float32),\n",
    "    ]\n",
    "\n",
    "    @tf.function(input_signature=train_step_signature)\n",
    "    def train_step(x, y):\n",
    "\n",
    "        enc_padding_mask = create_padding_mask(x)\n",
    "        with tf.GradientTape() as tape:\n",
    "            y_pred = model(x, training=True, enc_padding_mask=enc_padding_mask)\n",
    "            loss = loss_object(y, y_pred)\n",
    "\n",
    "        grads = tape.gradient(loss, model.trainable_variables)\n",
    "        optimizer.apply_gradients(zip(grads, model.trainable_variables))\n",
    "\n",
    "        train_loss(loss)\n",
    "        train_accuracy(y, y_pred)\n",
    "\n",
    "        mi_f1=micro_f1(y, y_pred)\n",
    "        ma_f1=macro_f1(y, y_pred)\n",
    "        return mi_f1, ma_f1, y_pred\n",
    "\n",
    "\n",
    "    # 训练\n",
    "    for epoch in range(epochs):\n",
    "        start = time.time()\n",
    "\n",
    "        train_loss.reset_states()\n",
    "        train_accuracy.reset_states()\n",
    "\n",
    "        for batch, (x, y) in enumerate(train_dataset.take(steps_per_epoch)):\n",
    "            mi_f1 ,ma_f1, _ = train_step(x, y)\n",
    "\n",
    "            if batch % 20 == 0:\n",
    "                print('epoch {} batch {:3d} loss {:.4f} acc {:.4f} micro_f1 {:.4f} macro_f1 {:.4f}'.format(\n",
    "                    epoch+1, batch+1, train_loss.result(), \n",
    "                    train_accuracy.result(), mi_f1, ma_f1))\n",
    "            break\n",
    "        # 每隔5轮保存一下        \n",
    "        if (epoch + 1) % 5 == 0:\n",
    "            ckpt_save_path = ckpt_manager.save()\n",
    "            print ('Saving checkpoint for epoch {} at {}'.format(epoch+1,\n",
    "                                                             ckpt_save_path))\n",
    "\n",
    "        print('Epoch {} Loss {:.4f}'.format(epoch + 1, train_loss.result()))\n",
    "        evaluation(dev_x, dev_y)\n",
    "        print('Time taken for 1 epoch {:.2f} sec\\n'.format(time.time() - start))"
   ]
  },
  {
   "cell_type": "markdown",
   "metadata": {},
   "source": [
    "## 训练"
   ]
  },
  {
   "cell_type": "code",
   "execution_count": 13,
   "metadata": {},
   "outputs": [
    {
     "name": "stdout",
     "output_type": "stream",
     "text": [
      "epoch 1 batch   1 loss 0.9101 acc 0.6293 micro_f1 0.0658 macro_f1 0.0384\n",
      "epoch 1 batch  51 loss 0.4925 acc 0.8322 micro_f1 0.0908 macro_f1 0.0058\n",
      "epoch 1 batch 101 loss 0.3255 acc 0.8943 micro_f1 0.1280 macro_f1 0.0087\n",
      "Epoch 1 Loss 0.2672\n",
      "val accuracy 0.9598, micro f1 0.1490 macro f1 0.0110\n",
      "Time taken for 1 epoch 44.37 sec\n",
      "\n",
      "epoch 2 batch   1 loss 0.1393 acc 0.9583 micro_f1 0.1752 macro_f1 0.0137\n",
      "epoch 2 batch  51 loss 0.1225 acc 0.9639 micro_f1 0.4554 macro_f1 0.0900\n",
      "epoch 2 batch 101 loss 0.1074 acc 0.9671 micro_f1 0.5917 macro_f1 0.1823\n",
      "Epoch 2 Loss 0.0957\n",
      "val accuracy 0.9790, micro f1 0.7213 macro f1 0.4012\n",
      "Time taken for 1 epoch 38.95 sec\n",
      "\n",
      "epoch 3 batch   1 loss 0.0586 acc 0.9793 micro_f1 0.7269 macro_f1 0.3585\n",
      "epoch 3 batch  51 loss 0.0579 acc 0.9799 micro_f1 0.7742 macro_f1 0.3778\n",
      "epoch 3 batch 101 loss 0.0529 acc 0.9812 micro_f1 0.7873 macro_f1 0.4439\n",
      "Epoch 3 Loss 0.0487\n",
      "val accuracy 0.9849, micro f1 0.8198 macro f1 0.6576\n",
      "Time taken for 1 epoch 38.52 sec\n",
      "\n",
      "epoch 4 batch   1 loss 0.0339 acc 0.9866 micro_f1 0.8428 macro_f1 0.5647\n",
      "epoch 4 batch  51 loss 0.0380 acc 0.9862 micro_f1 0.8366 macro_f1 0.5473\n",
      "epoch 4 batch 101 loss 0.0349 acc 0.9871 micro_f1 0.8591 macro_f1 0.5942\n",
      "Epoch 4 Loss 0.0331\n",
      "val accuracy 0.9871, micro f1 0.8489 macro f1 0.7225\n",
      "Time taken for 1 epoch 38.82 sec\n",
      "\n",
      "epoch 5 batch   1 loss 0.0284 acc 0.9876 micro_f1 0.8539 macro_f1 0.6131\n",
      "epoch 5 batch  51 loss 0.0275 acc 0.9897 micro_f1 0.8725 macro_f1 0.6695\n",
      "epoch 5 batch 101 loss 0.0264 acc 0.9901 micro_f1 0.8865 macro_f1 0.6770\n",
      "Epoch 5 Loss 0.0251\n",
      "val accuracy 0.9890, micro f1 0.8696 macro f1 0.7732\n",
      "Time taken for 1 epoch 39.45 sec\n",
      "\n",
      "epoch 6 batch   1 loss 0.0222 acc 0.9915 micro_f1 0.8997 macro_f1 0.7099\n",
      "epoch 6 batch  51 loss 0.0223 acc 0.9918 micro_f1 0.8988 macro_f1 0.7050\n",
      "epoch 6 batch 101 loss 0.0216 acc 0.9921 micro_f1 0.9082 macro_f1 0.7106\n",
      "Epoch 6 Loss 0.0209\n",
      "val accuracy 0.9894, micro f1 0.8785 macro f1 0.7908\n",
      "Time taken for 1 epoch 39.29 sec\n",
      "\n",
      "epoch 7 batch   1 loss 0.0196 acc 0.9929 micro_f1 0.9206 macro_f1 0.7780\n",
      "epoch 7 batch  51 loss 0.0199 acc 0.9926 micro_f1 0.9082 macro_f1 0.7268\n",
      "epoch 7 batch 101 loss 0.0189 acc 0.9929 micro_f1 0.9197 macro_f1 0.7037\n",
      "Epoch 7 Loss 0.0182\n",
      "val accuracy 0.9898, micro f1 0.8803 macro f1 0.8075\n",
      "Time taken for 1 epoch 40.25 sec\n",
      "\n",
      "epoch 8 batch   1 loss 0.0151 acc 0.9937 micro_f1 0.9260 macro_f1 0.7957\n",
      "epoch 8 batch  51 loss 0.0174 acc 0.9936 micro_f1 0.9404 macro_f1 0.8307\n",
      "epoch 8 batch 101 loss 0.0163 acc 0.9939 micro_f1 0.9346 macro_f1 0.7385\n",
      "Epoch 8 Loss 0.0157\n",
      "val accuracy 0.9910, micro f1 0.8952 macro f1 0.8298\n",
      "Time taken for 1 epoch 40.56 sec\n",
      "\n",
      "epoch 9 batch   1 loss 0.0144 acc 0.9941 micro_f1 0.9331 macro_f1 0.7722\n",
      "epoch 9 batch  51 loss 0.0141 acc 0.9948 micro_f1 0.9227 macro_f1 0.7345\n",
      "epoch 9 batch 101 loss 0.0147 acc 0.9946 micro_f1 0.9400 macro_f1 0.8384\n",
      "Epoch 9 Loss 0.0143\n",
      "val accuracy 0.9895, micro f1 0.8761 macro f1 0.8150\n",
      "Time taken for 1 epoch 40.62 sec\n",
      "\n",
      "epoch 10 batch   1 loss 0.0165 acc 0.9945 micro_f1 0.9374 macro_f1 0.8237\n",
      "epoch 10 batch  51 loss 0.0138 acc 0.9949 micro_f1 0.9587 macro_f1 0.7815\n",
      "epoch 10 batch 101 loss 0.0134 acc 0.9950 micro_f1 0.9469 macro_f1 0.8045\n",
      "Epoch 10 Loss 0.0128\n",
      "val accuracy 0.9897, micro f1 0.8794 macro f1 0.7973\n",
      "Time taken for 1 epoch 39.08 sec\n",
      "\n"
     ]
    }
   ],
   "source": [
    "train_step_signature = [\n",
    "    tf.TensorSpec(shape=(None, 128), dtype=tf.float32),\n",
    "    tf.TensorSpec(shape=(None, None), dtype=tf.float32),\n",
    "]\n",
    "\n",
    "@tf.function(input_signature=train_step_signature)\n",
    "def train_step(x, y):\n",
    "\n",
    "    enc_padding_mask = create_padding_mask(x)\n",
    "    with tf.GradientTape() as tape:\n",
    "        y_pred = model(x, training=True, enc_padding_mask=enc_padding_mask)\n",
    "        loss = loss_object(y, y_pred)\n",
    "\n",
    "    grads = tape.gradient(loss, model.trainable_variables)\n",
    "    optimizer.apply_gradients(zip(grads, model.trainable_variables))\n",
    "\n",
    "    train_loss(loss)\n",
    "    train_accuracy(y, y_pred)\n",
    "\n",
    "    mi_f1=micro_f1(y, y_pred)\n",
    "    ma_f1=macro_f1(y, y_pred)\n",
    "    return mi_f1, ma_f1, y_pred\n",
    "\n",
    "loss_record = []\n",
    "# 为了之后绘制曲线\n",
    "dev_micro = []\n",
    "dev_macro = []\n",
    "\n",
    "train_micro = []\n",
    "train_macro = []\n",
    "\n",
    "for epoch in range(epochs):\n",
    "    start = time.time()\n",
    "    \n",
    "    train_loss.reset_states()\n",
    "    train_accuracy.reset_states()\n",
    "    \n",
    "    train_y_true = []\n",
    "    train_y_pred = []\n",
    "    \n",
    "    \n",
    "    for batch, (x, y) in enumerate(train_dataset.take(steps_per_epoch)):\n",
    "        mi_f1 ,ma_f1, y_pred = train_step(x, y)\n",
    "        train_y_pred.append(y_pred)\n",
    "        train_y_true.append(y)\n",
    "        if batch % 50 == 0:\n",
    "            print('epoch {} batch {:3d} loss {:.4f} acc {:.4f} micro_f1 {:.4f} macro_f1 {:.4f}'.format(\n",
    "                epoch+1, batch+1, train_loss.result(), \n",
    "                train_accuracy.result(), mi_f1, ma_f1))\n",
    "            \n",
    "    loss_record.append(train_loss.result())  # 记录下每轮loss的变化\n",
    "    print('Epoch {} Loss {:.4f}'.format(epoch + 1, train_loss.result()))\n",
    "    \n",
    "    _, mi, ma = evaluation(model, dev_x, dev_y)\n",
    "    \n",
    "    train_y_true = tf.concat(train_y_true, axis=0)\n",
    "    train_y_pred = tf.concat(train_y_pred, axis=0)\n",
    "    \n",
    "    dev_micro.append(mi.numpy())\n",
    "    dev_macro.append(ma.numpy())\n",
    "    train_micro.append(micro_f1(train_y_true, train_y_pred).numpy())\n",
    "    train_macro.append(macro_f1(train_y_true, train_y_pred).numpy())\n",
    "    \n",
    "    print('Time taken for 1 epoch {:.2f} sec\\n'.format(time.time() - start))"
   ]
  },
  {
   "cell_type": "markdown",
   "metadata": {},
   "source": [
    "# 绘图"
   ]
  },
  {
   "cell_type": "code",
   "execution_count": 14,
   "metadata": {},
   "outputs": [],
   "source": [
    "import pandas as pd"
   ]
  },
  {
   "cell_type": "code",
   "execution_count": null,
   "metadata": {},
   "outputs": [],
   "source": [
    "# history = pd.read_csv('notebook/Transformer/transformer_report.csv')"
   ]
  },
  {
   "cell_type": "code",
   "execution_count": 15,
   "metadata": {},
   "outputs": [],
   "source": [
    "history = pd.DataFrame([loss_record, dev_micro, dev_macro, train_micro, train_macro],\n",
    "                        index=['train_loss', 'dev_micro', 'dev_macro', 'train_micro', 'train_macro']).T"
   ]
  },
  {
   "cell_type": "code",
   "execution_count": 16,
   "metadata": {},
   "outputs": [
    {
     "data": {
      "text/html": [
       "<div>\n",
       "<style scoped>\n",
       "    .dataframe tbody tr th:only-of-type {\n",
       "        vertical-align: middle;\n",
       "    }\n",
       "\n",
       "    .dataframe tbody tr th {\n",
       "        vertical-align: top;\n",
       "    }\n",
       "\n",
       "    .dataframe thead th {\n",
       "        text-align: right;\n",
       "    }\n",
       "</style>\n",
       "<table border=\"1\" class=\"dataframe\">\n",
       "  <thead>\n",
       "    <tr style=\"text-align: right;\">\n",
       "      <th></th>\n",
       "      <th>train_loss</th>\n",
       "      <th>dev_micro</th>\n",
       "      <th>dev_macro</th>\n",
       "      <th>train_micro</th>\n",
       "      <th>train_macro</th>\n",
       "    </tr>\n",
       "  </thead>\n",
       "  <tbody>\n",
       "    <tr>\n",
       "      <th>0</th>\n",
       "      <td>tf.Tensor(0.26717302, shape=(), dtype=float32)</td>\n",
       "      <td>0.148993</td>\n",
       "      <td>0.0109528</td>\n",
       "      <td>0.0900414</td>\n",
       "      <td>0.0299966</td>\n",
       "    </tr>\n",
       "    <tr>\n",
       "      <th>1</th>\n",
       "      <td>tf.Tensor(0.0957471, shape=(), dtype=float32)</td>\n",
       "      <td>0.721341</td>\n",
       "      <td>0.401237</td>\n",
       "      <td>0.508031</td>\n",
       "      <td>0.164998</td>\n",
       "    </tr>\n",
       "    <tr>\n",
       "      <th>2</th>\n",
       "      <td>tf.Tensor(0.048721515, shape=(), dtype=float32)</td>\n",
       "      <td>0.819765</td>\n",
       "      <td>0.657625</td>\n",
       "      <td>0.769467</td>\n",
       "      <td>0.507599</td>\n",
       "    </tr>\n",
       "    <tr>\n",
       "      <th>3</th>\n",
       "      <td>tf.Tensor(0.03310945, shape=(), dtype=float32)</td>\n",
       "      <td>0.848892</td>\n",
       "      <td>0.722457</td>\n",
       "      <td>0.84796</td>\n",
       "      <td>0.692398</td>\n",
       "    </tr>\n",
       "    <tr>\n",
       "      <th>4</th>\n",
       "      <td>tf.Tensor(0.02511147, shape=(), dtype=float32)</td>\n",
       "      <td>0.869625</td>\n",
       "      <td>0.773193</td>\n",
       "      <td>0.88659</td>\n",
       "      <td>0.784156</td>\n",
       "    </tr>\n",
       "    <tr>\n",
       "      <th>5</th>\n",
       "      <td>tf.Tensor(0.02086445, shape=(), dtype=float32)</td>\n",
       "      <td>0.878489</td>\n",
       "      <td>0.790805</td>\n",
       "      <td>0.909004</td>\n",
       "      <td>0.83619</td>\n",
       "    </tr>\n",
       "    <tr>\n",
       "      <th>6</th>\n",
       "      <td>tf.Tensor(0.018162627, shape=(), dtype=float32)</td>\n",
       "      <td>0.880315</td>\n",
       "      <td>0.80748</td>\n",
       "      <td>0.920203</td>\n",
       "      <td>0.87139</td>\n",
       "    </tr>\n",
       "    <tr>\n",
       "      <th>7</th>\n",
       "      <td>tf.Tensor(0.015694626, shape=(), dtype=float32)</td>\n",
       "      <td>0.895176</td>\n",
       "      <td>0.829844</td>\n",
       "      <td>0.931481</td>\n",
       "      <td>0.88738</td>\n",
       "    </tr>\n",
       "    <tr>\n",
       "      <th>8</th>\n",
       "      <td>tf.Tensor(0.01433434, shape=(), dtype=float32)</td>\n",
       "      <td>0.876133</td>\n",
       "      <td>0.814999</td>\n",
       "      <td>0.938867</td>\n",
       "      <td>0.905893</td>\n",
       "    </tr>\n",
       "    <tr>\n",
       "      <th>9</th>\n",
       "      <td>tf.Tensor(0.012812984, shape=(), dtype=float32)</td>\n",
       "      <td>0.879371</td>\n",
       "      <td>0.797264</td>\n",
       "      <td>0.944457</td>\n",
       "      <td>0.91491</td>\n",
       "    </tr>\n",
       "  </tbody>\n",
       "</table>\n",
       "</div>"
      ],
      "text/plain": [
       "                                        train_loss dev_micro  dev_macro  \\\n",
       "0   tf.Tensor(0.26717302, shape=(), dtype=float32)  0.148993  0.0109528   \n",
       "1    tf.Tensor(0.0957471, shape=(), dtype=float32)  0.721341   0.401237   \n",
       "2  tf.Tensor(0.048721515, shape=(), dtype=float32)  0.819765   0.657625   \n",
       "3   tf.Tensor(0.03310945, shape=(), dtype=float32)  0.848892   0.722457   \n",
       "4   tf.Tensor(0.02511147, shape=(), dtype=float32)  0.869625   0.773193   \n",
       "5   tf.Tensor(0.02086445, shape=(), dtype=float32)  0.878489   0.790805   \n",
       "6  tf.Tensor(0.018162627, shape=(), dtype=float32)  0.880315    0.80748   \n",
       "7  tf.Tensor(0.015694626, shape=(), dtype=float32)  0.895176   0.829844   \n",
       "8   tf.Tensor(0.01433434, shape=(), dtype=float32)  0.876133   0.814999   \n",
       "9  tf.Tensor(0.012812984, shape=(), dtype=float32)  0.879371   0.797264   \n",
       "\n",
       "  train_micro train_macro  \n",
       "0   0.0900414   0.0299966  \n",
       "1    0.508031    0.164998  \n",
       "2    0.769467    0.507599  \n",
       "3     0.84796    0.692398  \n",
       "4     0.88659    0.784156  \n",
       "5    0.909004     0.83619  \n",
       "6    0.920203     0.87139  \n",
       "7    0.931481     0.88738  \n",
       "8    0.938867    0.905893  \n",
       "9    0.944457     0.91491  "
      ]
     },
     "execution_count": 16,
     "metadata": {},
     "output_type": "execute_result"
    }
   ],
   "source": [
    "history"
   ]
  },
  {
   "cell_type": "code",
   "execution_count": 17,
   "metadata": {
    "scrolled": false
   },
   "outputs": [
    {
     "data": {
      "image/png": "[encoded data removed]",
      "text/plain": [
       "<Figure size 600x400 with 1 Axes>"
      ]
     },
     "metadata": {
      "needs_background": "light"
     },
     "output_type": "display_data"
    }
   ],
   "source": [
    "fig, ax = plt.subplots(dpi=100)\n",
    "ax.plot(history.dev_micro, c='b', marker='o', mfc='w', label='dev_micro')\n",
    "ax.plot(history.dev_macro, c='b', marker='^', mfc='w', label='dev_macro')\n",
    "ax.plot(history.train_micro, c='orange', marker='o', mfc='w', label='train_micro')\n",
    "ax.plot(history.train_macro, c='orange', marker='^', mfc='w', label='train_macro')\n",
    "plt.legend()\n",
    "plt.show()"
   ]
  },
  {
   "cell_type": "code",
   "execution_count": 24,
   "metadata": {},
   "outputs": [],
   "source": [
    "history.to_csv('notebook/Transformer/transformer_report.csv', index=None)"
   ]
  },
  {
   "cell_type": "markdown",
   "metadata": {},
   "source": [
    "# 预测"
   ]
  },
  {
   "cell_type": "code",
   "execution_count": 21,
   "metadata": {},
   "outputs": [],
   "source": [
    "y_pred = predict(model, test_x)"
   ]
  },
  {
   "cell_type": "code",
   "execution_count": 22,
   "metadata": {},
   "outputs": [],
   "source": [
    "mif1 = micro_f1(tf.cast(test_y, dtype=tf.float32), y_pred)\n",
    "maf1 = macro_f1(tf.cast(test_y, dtype=tf.float32), y_pred)"
   ]
  },
  {
   "cell_type": "code",
   "execution_count": 23,
   "metadata": {},
   "outputs": [
    {
     "name": "stdout",
     "output_type": "stream",
     "text": [
      "test micro f1: 0.8751 macro f1: 0.7899\n"
     ]
    }
   ],
   "source": [
    "print('test micro f1: {:.4f} macro f1: {:.4f}'.format(mif1.numpy(), maf1.numpy()))"
   ]
  }
 ],
 "metadata": {
  "kernelspec": {
   "display_name": "Python [conda env:tf2.0]",
   "language": "python",
   "name": "conda-env-tf2.0-py"
  },
  "language_info": {
   "codemirror_mode": {
    "name": "ipython",
    "version": 3
   },
   "file_extension": ".py",
   "mimetype": "text/x-python",
   "name": "python",
   "nbconvert_exporter": "python",
   "pygments_lexer": "ipython3",
   "version": "3.7.4"
  },
  "toc": {
   "base_numbering": 1,
   "nav_menu": {},
   "number_sections": true,
   "sideBar": true,
   "skip_h1_title": false,
   "title_cell": "Table of Contents",
   "title_sidebar": "Contents",
   "toc_cell": false,
   "toc_position": {},
   "toc_section_display": true,
   "toc_window_display": true
  },
  "varInspector": {
   "cols": {
    "lenName": 16,
    "lenType": 16,
    "lenVar": 40
   },
   "kernels_config": {
    "python": {
     "delete_cmd_postfix": "",
     "delete_cmd_prefix": "del ",
     "library": "var_list.py",
     "varRefreshCmd": "print(var_dic_list())"
    },
    "r": {
     "delete_cmd_postfix": ") ",
     "delete_cmd_prefix": "rm(",
     "library": "var_list.r",
     "varRefreshCmd": "cat(var_dic_list()) "
    }
   },
   "types_to_exclude": [
    "module",
    "function",
    "builtin_function_or_method",
    "instance",
    "_Feature"
   ],
   "window_display": false
  }
 },
 "nbformat": 4,
 "nbformat_minor": 2
}
