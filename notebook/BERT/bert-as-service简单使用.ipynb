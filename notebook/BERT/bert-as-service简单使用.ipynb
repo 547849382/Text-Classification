{
 "cells": [
  {
   "cell_type": "markdown",
   "metadata": {},
   "source": [
    "[bert-as-service](https://github.com/hanxiao/bert-as-service)"
   ]
  },
  {
   "cell_type": "markdown",
   "metadata": {},
   "source": [
    "注意，环境要求tensorflow >= 1.12"
   ]
  },
  {
   "cell_type": "code",
   "execution_count": 1,
   "metadata": {},
   "outputs": [
    {
     "name": "stdout",
     "output_type": "stream",
     "text": [
      "Looking in indexes: https://pypi.tuna.tsinghua.edu.cn/simple\n",
      "Collecting bert-serving-server\n",
      "  Downloading https://pypi.tuna.tsinghua.edu.cn/packages/b0/bd/cab677bbd0c5fb08b72e468371d2bca6ed9507785739b4656b0b5470d90b/bert_serving_server-1.10.0-py3-none-any.whl (61 kB)\n",
      "Processing c:\\users\\light\\appdata\\local\\pip\\cache\\wheels\\fc\\9a\\9d\\4a1e1b88304ad876abfdc19dbdf1b538424b0071157a941456\\gputil-1.4.0-cp37-none-any.whl\n",
      "Requirement already satisfied: termcolor>=1.1 in e:\\software\\anaconda3\\envs\\tf1\\lib\\site-packages (from bert-serving-server) (1.1.0)\n",
      "Requirement already satisfied: six in e:\\software\\anaconda3\\envs\\tf1\\lib\\site-packages (from bert-serving-server) (1.14.0)\n",
      "Requirement already satisfied: pyzmq>=17.1.0 in e:\\software\\anaconda3\\envs\\tf1\\lib\\site-packages (from bert-serving-server) (18.1.1)\n",
      "Requirement already satisfied: numpy in c:\\users\\light\\appdata\\roaming\\python\\python37\\site-packages (from bert-serving-server) (1.18.0)\n",
      "Installing collected packages: GPUtil, bert-serving-server\n",
      "Successfully installed GPUtil-1.4.0 bert-serving-server-1.10.0\n",
      "Looking in indexes: https://pypi.tuna.tsinghua.edu.cn/simple\n",
      "Collecting bert-serving-client\n",
      "  Downloading https://pypi.tuna.tsinghua.edu.cn/packages/1f/09/aae1405378a848b2e87769ad89a43d6d71978c4e15534ca48e82e723a72f/bert_serving_client-1.10.0-py2.py3-none-any.whl (28 kB)\n",
      "Requirement already satisfied: numpy in c:\\users\\light\\appdata\\roaming\\python\\python37\\site-packages (from bert-serving-client) (1.18.0)\n",
      "Requirement already satisfied: pyzmq>=17.1.0 in e:\\software\\anaconda3\\envs\\tf1\\lib\\site-packages (from bert-serving-client) (18.1.1)\n",
      "Installing collected packages: bert-serving-client\n",
      "Successfully installed bert-serving-client-1.10.0\n"
     ]
    }
   ],
   "source": [
    "!pip install bert-serving-server\n",
    "!pip install bert-serving-client"
   ]
  },
  {
   "cell_type": "code",
   "execution_count": 2,
   "metadata": {},
   "outputs": [],
   "source": [
    "import os\n",
    "os.chdir(os.path.dirname(os.path.dirname(os.getcwd())))"
   ]
  },
  {
   "cell_type": "code",
   "execution_count": 3,
   "metadata": {},
   "outputs": [
    {
     "data": {
      "text/plain": [
       "'E:\\\\GitHub\\\\Text-Classification'"
      ]
     },
     "execution_count": 3,
     "metadata": {},
     "output_type": "execute_result"
    }
   ],
   "source": [
    "os.getcwd()"
   ]
  },
  {
   "cell_type": "markdown",
   "metadata": {},
   "source": [
    "After installing the server, you should be able to use bert-serving-start CLI as follows:\n",
    "```\n",
    "bert-serving-start -model_dir /tmp/english_L-12_H-768_A-12/ -num_worker=2 -max_seq_len=128\n",
    "```\n",
    "\n",
    "设备不太好的同学注意调整下参数"
   ]
  },
  {
   "cell_type": "code",
   "execution_count": null,
   "metadata": {},
   "outputs": [],
   "source": [
    "# cd 进项目根目录\n",
    "# bert-serving-start -model_dir bert/pretrained_model/chinese_L-12_H-768_A-12/ -num_worker=2 -max_seq_len=128"
   ]
  },
  {
   "cell_type": "code",
   "execution_count": null,
   "metadata": {},
   "outputs": [],
   "source": [
    "from bert_serving.client import BertClient\n",
    "bc = BertClient()\n",
    "bc.encode(['First do it', 'then do it right', 'then do it better'])"
   ]
  }
 ],
 "metadata": {
  "kernelspec": {
   "display_name": "Python [conda env:tf1]",
   "language": "python",
   "name": "conda-env-tf1-py"
  },
  "language_info": {
   "codemirror_mode": {
    "name": "ipython",
    "version": 3
   },
   "file_extension": ".py",
   "mimetype": "text/x-python",
   "name": "python",
   "nbconvert_exporter": "python",
   "pygments_lexer": "ipython3",
   "version": "3.7.6"
  },
  "toc": {
   "base_numbering": 1,
   "nav_menu": {},
   "number_sections": true,
   "sideBar": true,
   "skip_h1_title": false,
   "title_cell": "Table of Contents",
   "title_sidebar": "Contents",
   "toc_cell": false,
   "toc_position": {},
   "toc_section_display": true,
   "toc_window_display": true
  },
  "varInspector": {
   "cols": {
    "lenName": 16,
    "lenType": 16,
    "lenVar": 40
   },
   "kernels_config": {
    "python": {
     "delete_cmd_postfix": "",
     "delete_cmd_prefix": "del ",
     "library": "var_list.py",
     "varRefreshCmd": "print(var_dic_list())"
    },
    "r": {
     "delete_cmd_postfix": ") ",
     "delete_cmd_prefix": "rm(",
     "library": "var_list.r",
     "varRefreshCmd": "cat(var_dic_list()) "
    }
   },
   "types_to_exclude": [
    "module",
    "function",
    "builtin_function_or_method",
    "instance",
    "_Feature"
   ],
   "window_display": false
  }
 },
 "nbformat": 4,
 "nbformat_minor": 2
}
