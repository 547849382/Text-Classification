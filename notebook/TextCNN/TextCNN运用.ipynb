{
 "cells": [
  {
   "cell_type": "markdown",
   "metadata": {},
   "source": [
    "**此notebook是在transformer建模后回来写的。发现也许有很多可以优化的地方。所以重新写了一版。**\n",
    "\n"
   ]
  },
  {
   "cell_type": "code",
   "execution_count": 1,
   "metadata": {},
   "outputs": [],
   "source": [
    "%load_ext autoreload\n",
    "%autoreload 2\n",
    "import os\n",
    "os.chdir(os.path.dirname(os.path.dirname(os.getcwd())))"
   ]
  },
  {
   "cell_type": "code",
   "execution_count": 2,
   "metadata": {},
   "outputs": [
    {
     "data": {
      "text/plain": [
       "'2.0.0'"
      ]
     },
     "execution_count": 2,
     "metadata": {},
     "output_type": "execute_result"
    }
   ],
   "source": [
    "import time\n",
    "import numpy as np\n",
    "import tensorflow as tf\n",
    "from utils.preprocess import load_testcnn_data, load_tokenizer_binarizer\n",
    "tf.__version__"
   ]
  },
  {
   "cell_type": "markdown",
   "metadata": {},
   "source": [
    "# 训练"
   ]
  },
  {
   "cell_type": "markdown",
   "metadata": {},
   "source": [
    "## 构建数据集"
   ]
  },
  {
   "cell_type": "code",
   "execution_count": 3,
   "metadata": {},
   "outputs": [],
   "source": [
    "train_x, dev_x, test_x, train_y, dev_y, test_y = load_testcnn_data()\n",
    "tokenizer, mlb = load_tokenizer_binarizer()\n",
    "BUFFER_SIZE = 256\n",
    "BATCH_SIZE = 256"
   ]
  },
  {
   "cell_type": "code",
   "execution_count": 4,
   "metadata": {},
   "outputs": [],
   "source": [
    "train_dataset = tf.data.Dataset.from_tensor_slices((train_x, train_y))\n",
    "\n",
    "# 将数据集缓存到内存中以加快读取速度。\n",
    "train_dataset = train_dataset.cache()\n",
    "train_dataset = train_dataset.shuffle(BUFFER_SIZE,reshuffle_each_iteration=True).batch(BATCH_SIZE, drop_remainder=False)\n",
    "\n",
    "# 流水线技术 重叠训练的预处理和模型训练步骤。当加速器正在执行训练步骤 N 时，CPU 开始准备步骤 N + 1 的数据。这样做可以将步骤时间减少到模型训练与抽取转换数据二者所需的最大时间（而不是二者时间总和）。\n",
    "# 没有流水线技术，CPU 和 GPU/TPU 大部分时间将处于闲置状态:\n",
    "train_dataset = train_dataset.prefetch(tf.data.experimental.AUTOTUNE)"
   ]
  },
  {
   "cell_type": "markdown",
   "metadata": {},
   "source": [
    "## 设定超参并建模"
   ]
  },
  {
   "cell_type": "code",
   "execution_count": 5,
   "metadata": {},
   "outputs": [],
   "source": [
    "from textcnn.model import TextCNN"
   ]
  },
  {
   "cell_type": "code",
   "execution_count": 6,
   "metadata": {},
   "outputs": [],
   "source": [
    "max_len = 128\n",
    "vocab_size = 50000\n",
    "embedding_dim=256\n",
    "output_dim = len(train_y[0])  # 97\n",
    "kernel_sizes = [2, 3, 4]\n",
    "learning_rate = 0.01\n",
    "epochs = 20\n",
    "steps_per_epoch = len(train_x) // BATCH_SIZE"
   ]
  },
  {
   "cell_type": "code",
   "execution_count": 7,
   "metadata": {},
   "outputs": [],
   "source": [
    "model = TextCNN(max_len=max_len, \n",
    "                vocab_size=vocab_size, \n",
    "                embedding_dim=embedding_dim, \n",
    "                output_dim=output_dim, \n",
    "                kernel_sizes=kernel_sizes)"
   ]
  },
  {
   "cell_type": "markdown",
   "metadata": {},
   "source": [
    "## 损失函数、学习率 、评估指标、"
   ]
  },
  {
   "cell_type": "code",
   "execution_count": 8,
   "metadata": {},
   "outputs": [],
   "source": [
    "# loss_object = tf.keras.losses.CategoricalCrossentropy()  # 多分类\n",
    "loss_object = tf.keras.losses.BinaryCrossentropy(from_logits=True)  # 多标签分类\n",
    "optimizer = tf.keras.optimizers.Adam(learning_rate=learning_rate)"
   ]
  },
  {
   "cell_type": "code",
   "execution_count": 9,
   "metadata": {},
   "outputs": [],
   "source": [
    "from utils.metrics import micro_f1, macro_f1\n",
    "train_loss = tf.keras.metrics.Mean(name='train_loss')\n",
    "train_accuracy = tf.keras.metrics.BinaryAccuracy(name='train_accuracy')\n",
    "\n",
    "loss_object = tf.keras.losses.BinaryCrossentropy(from_logits=True, reduction='auto')"
   ]
  },
  {
   "cell_type": "code",
   "execution_count": 10,
   "metadata": {},
   "outputs": [],
   "source": [
    "from textcnn.train import predict, evaluation"
   ]
  },
  {
   "cell_type": "code",
   "execution_count": 11,
   "metadata": {},
   "outputs": [
    {
     "name": "stdout",
     "output_type": "stream",
     "text": [
      "epoch 1 batch   1 loss 0.6966 acc 0.9561 micro_f1 0.0000 macro_f1 0.0000\n",
      "epoch 1 batch  21 loss 0.4200 acc 0.9469 micro_f1 0.0163 macro_f1 0.0044\n",
      "epoch 1 batch  41 loss 0.2892 acc 0.9537 micro_f1 0.2828 macro_f1 0.0401\n",
      "epoch 1 batch  61 loss 0.2334 acc 0.9575 micro_f1 0.4012 macro_f1 0.0653\n",
      "Epoch 1 Loss 0.2110\n",
      "val accuracy 0.9693, micro f1 0.4849 macro f1 0.0949\n",
      "Time taken for 1 epoch 17.61 sec\n",
      "\n",
      "epoch 2 batch   1 loss 0.1004 acc 0.9693 micro_f1 0.5261 macro_f1 0.0909\n",
      "epoch 2 batch  21 loss 0.0911 acc 0.9708 micro_f1 0.4997 macro_f1 0.1384\n",
      "epoch 2 batch  41 loss 0.0850 acc 0.9720 micro_f1 0.6286 macro_f1 0.2218\n",
      "epoch 2 batch  61 loss 0.0792 acc 0.9735 micro_f1 0.6739 macro_f1 0.2744\n",
      "Epoch 2 Loss 0.0763\n",
      "val accuracy 0.9777, micro f1 0.6734 macro f1 0.3125\n",
      "Time taken for 1 epoch 14.28 sec\n",
      "\n",
      "epoch 3 batch   1 loss 0.0596 acc 0.9788 micro_f1 0.7107 macro_f1 0.3073\n",
      "epoch 3 batch  21 loss 0.0578 acc 0.9798 micro_f1 0.7361 macro_f1 0.3871\n",
      "epoch 3 batch  41 loss 0.0564 acc 0.9800 micro_f1 0.7390 macro_f1 0.4092\n",
      "epoch 3 batch  61 loss 0.0544 acc 0.9806 micro_f1 0.7719 macro_f1 0.4040\n",
      "Epoch 3 Loss 0.0535\n",
      "val accuracy 0.9802, micro f1 0.7252 macro f1 0.4021\n",
      "Time taken for 1 epoch 14.28 sec\n",
      "\n",
      "epoch 4 batch   1 loss 0.0442 acc 0.9836 micro_f1 0.7804 macro_f1 0.4404\n",
      "epoch 4 batch  21 loss 0.0463 acc 0.9831 micro_f1 0.7756 macro_f1 0.4746\n",
      "epoch 4 batch  41 loss 0.0457 acc 0.9834 micro_f1 0.7691 macro_f1 0.4355\n",
      "epoch 4 batch  61 loss 0.0448 acc 0.9837 micro_f1 0.8088 macro_f1 0.4776\n",
      "Epoch 4 Loss 0.0443\n",
      "val accuracy 0.9815, micro f1 0.7539 macro f1 0.4815\n",
      "Time taken for 1 epoch 14.35 sec\n",
      "\n",
      "epoch 5 batch   1 loss 0.0377 acc 0.9861 micro_f1 0.8237 macro_f1 0.5466\n",
      "epoch 5 batch  21 loss 0.0410 acc 0.9852 micro_f1 0.8124 macro_f1 0.5299\n",
      "epoch 5 batch  41 loss 0.0407 acc 0.9853 micro_f1 0.8171 macro_f1 0.5298\n",
      "epoch 5 batch  61 loss 0.0402 acc 0.9853 micro_f1 0.8301 macro_f1 0.5491\n",
      "Epoch 5 Loss 0.0399\n",
      "val accuracy 0.9819, micro f1 0.7641 macro f1 0.5066\n",
      "Time taken for 1 epoch 14.42 sec\n",
      "\n",
      "epoch 6 batch   1 loss 0.0323 acc 0.9876 micro_f1 0.8518 macro_f1 0.5939\n",
      "epoch 6 batch  21 loss 0.0377 acc 0.9864 micro_f1 0.8391 macro_f1 0.5702\n",
      "epoch 6 batch  41 loss 0.0377 acc 0.9863 micro_f1 0.8433 macro_f1 0.5799\n",
      "epoch 6 batch  61 loss 0.0373 acc 0.9863 micro_f1 0.8344 macro_f1 0.5772\n",
      "Epoch 6 Loss 0.0372\n",
      "val accuracy 0.9824, micro f1 0.7686 macro f1 0.5118\n",
      "Time taken for 1 epoch 14.30 sec\n",
      "\n",
      "epoch 7 batch   1 loss 0.0339 acc 0.9871 micro_f1 0.8426 macro_f1 0.5822\n",
      "epoch 7 batch  21 loss 0.0354 acc 0.9870 micro_f1 0.8537 macro_f1 0.6213\n",
      "epoch 7 batch  41 loss 0.0357 acc 0.9870 micro_f1 0.8369 macro_f1 0.5974\n",
      "epoch 7 batch  61 loss 0.0355 acc 0.9870 micro_f1 0.8531 macro_f1 0.6112\n",
      "Epoch 7 Loss 0.0354\n",
      "val accuracy 0.9816, micro f1 0.7554 macro f1 0.4992\n",
      "Time taken for 1 epoch 14.30 sec\n",
      "\n",
      "epoch 8 batch   1 loss 0.0304 acc 0.9883 micro_f1 0.8559 macro_f1 0.6076\n",
      "epoch 8 batch  21 loss 0.0337 acc 0.9877 micro_f1 0.8479 macro_f1 0.5959\n",
      "epoch 8 batch  41 loss 0.0337 acc 0.9877 micro_f1 0.8413 macro_f1 0.5823\n",
      "epoch 8 batch  61 loss 0.0335 acc 0.9878 micro_f1 0.8712 macro_f1 0.6488\n",
      "Epoch 8 Loss 0.0334\n",
      "val accuracy 0.9823, micro f1 0.7707 macro f1 0.5274\n",
      "Time taken for 1 epoch 14.29 sec\n",
      "\n",
      "epoch 9 batch   1 loss 0.0273 acc 0.9893 micro_f1 0.8706 macro_f1 0.6360\n",
      "epoch 9 batch  21 loss 0.0315 acc 0.9884 micro_f1 0.8630 macro_f1 0.6292\n",
      "epoch 9 batch  41 loss 0.0320 acc 0.9883 micro_f1 0.8528 macro_f1 0.6108\n",
      "epoch 9 batch  61 loss 0.0317 acc 0.9883 micro_f1 0.8785 macro_f1 0.6723\n",
      "Epoch 9 Loss 0.0316\n",
      "val accuracy 0.9826, micro f1 0.7731 macro f1 0.5371\n",
      "Time taken for 1 epoch 14.28 sec\n",
      "\n",
      "epoch 10 batch   1 loss 0.0266 acc 0.9894 micro_f1 0.8676 macro_f1 0.6330\n",
      "epoch 10 batch  21 loss 0.0307 acc 0.9888 micro_f1 0.8567 macro_f1 0.6044\n",
      "epoch 10 batch  41 loss 0.0308 acc 0.9887 micro_f1 0.8558 macro_f1 0.6072\n",
      "epoch 10 batch  61 loss 0.0307 acc 0.9887 micro_f1 0.8574 macro_f1 0.6106\n",
      "Epoch 10 Loss 0.0307\n",
      "val accuracy 0.9828, micro f1 0.7825 macro f1 0.5632\n",
      "Time taken for 1 epoch 14.29 sec\n",
      "\n",
      "epoch 11 batch   1 loss 0.0258 acc 0.9905 micro_f1 0.8837 macro_f1 0.6640\n",
      "epoch 11 batch  21 loss 0.0288 acc 0.9895 micro_f1 0.8763 macro_f1 0.6562\n",
      "epoch 11 batch  41 loss 0.0293 acc 0.9893 micro_f1 0.8538 macro_f1 0.6391\n",
      "epoch 11 batch  61 loss 0.0294 acc 0.9893 micro_f1 0.8781 macro_f1 0.6953\n",
      "Epoch 11 Loss 0.0295\n",
      "val accuracy 0.9830, micro f1 0.7844 macro f1 0.5555\n",
      "Time taken for 1 epoch 14.28 sec\n",
      "\n",
      "epoch 12 batch   1 loss 0.0268 acc 0.9893 micro_f1 0.8702 macro_f1 0.6491\n",
      "epoch 12 batch  21 loss 0.0284 acc 0.9896 micro_f1 0.8808 macro_f1 0.6635\n",
      "epoch 12 batch  41 loss 0.0289 acc 0.9894 micro_f1 0.8870 macro_f1 0.6547\n",
      "epoch 12 batch  61 loss 0.0287 acc 0.9894 micro_f1 0.8814 macro_f1 0.6806\n",
      "Epoch 12 Loss 0.0288\n",
      "val accuracy 0.9827, micro f1 0.7794 macro f1 0.5603\n",
      "Time taken for 1 epoch 14.36 sec\n",
      "\n",
      "epoch 13 batch   1 loss 0.0250 acc 0.9907 micro_f1 0.8860 macro_f1 0.6913\n",
      "epoch 13 batch  21 loss 0.0278 acc 0.9899 micro_f1 0.8826 macro_f1 0.6901\n",
      "epoch 13 batch  41 loss 0.0280 acc 0.9897 micro_f1 0.8745 macro_f1 0.6338\n",
      "epoch 13 batch  61 loss 0.0279 acc 0.9897 micro_f1 0.8896 macro_f1 0.6999\n",
      "Epoch 13 Loss 0.0279\n",
      "val accuracy 0.9826, micro f1 0.7789 macro f1 0.5648\n",
      "Time taken for 1 epoch 14.27 sec\n",
      "\n",
      "epoch 14 batch   1 loss 0.0254 acc 0.9909 micro_f1 0.8899 macro_f1 0.6752\n",
      "epoch 14 batch  21 loss 0.0267 acc 0.9903 micro_f1 0.8849 macro_f1 0.6956\n",
      "epoch 14 batch  41 loss 0.0269 acc 0.9901 micro_f1 0.8842 macro_f1 0.6740\n",
      "epoch 14 batch  61 loss 0.0271 acc 0.9901 micro_f1 0.8885 macro_f1 0.7112\n",
      "Epoch 14 Loss 0.0271\n",
      "val accuracy 0.9828, micro f1 0.7802 macro f1 0.5686\n",
      "Time taken for 1 epoch 14.21 sec\n",
      "\n",
      "epoch 15 batch   1 loss 0.0206 acc 0.9919 micro_f1 0.9039 macro_f1 0.7068\n",
      "epoch 15 batch  21 loss 0.0263 acc 0.9905 micro_f1 0.8964 macro_f1 0.7350\n",
      "epoch 15 batch  41 loss 0.0266 acc 0.9904 micro_f1 0.8834 macro_f1 0.6941\n",
      "epoch 15 batch  61 loss 0.0266 acc 0.9903 micro_f1 0.8924 macro_f1 0.7087\n",
      "Epoch 15 Loss 0.0267\n",
      "val accuracy 0.9827, micro f1 0.7787 macro f1 0.5636\n",
      "Time taken for 1 epoch 14.17 sec\n",
      "\n",
      "epoch 16 batch   1 loss 0.0208 acc 0.9915 micro_f1 0.8950 macro_f1 0.6913\n",
      "epoch 16 batch  21 loss 0.0258 acc 0.9908 micro_f1 0.8836 macro_f1 0.7188\n",
      "epoch 16 batch  41 loss 0.0260 acc 0.9906 micro_f1 0.8942 macro_f1 0.7147\n",
      "epoch 16 batch  61 loss 0.0259 acc 0.9905 micro_f1 0.8926 macro_f1 0.7242\n",
      "Epoch 16 Loss 0.0260\n",
      "val accuracy 0.9824, micro f1 0.7721 macro f1 0.5654\n",
      "Time taken for 1 epoch 14.18 sec\n",
      "\n",
      "epoch 17 batch   1 loss 0.0211 acc 0.9910 micro_f1 0.8873 macro_f1 0.7035\n",
      "epoch 17 batch  21 loss 0.0250 acc 0.9908 micro_f1 0.8970 macro_f1 0.7163\n",
      "epoch 17 batch  41 loss 0.0257 acc 0.9906 micro_f1 0.8666 macro_f1 0.6706\n",
      "epoch 17 batch  61 loss 0.0256 acc 0.9906 micro_f1 0.9089 macro_f1 0.7317\n",
      "Epoch 17 Loss 0.0257\n",
      "val accuracy 0.9825, micro f1 0.7790 macro f1 0.5822\n",
      "Time taken for 1 epoch 14.18 sec\n",
      "\n",
      "epoch 18 batch   1 loss 0.0215 acc 0.9915 micro_f1 0.8986 macro_f1 0.7458\n",
      "epoch 18 batch  21 loss 0.0249 acc 0.9910 micro_f1 0.8885 macro_f1 0.7066\n",
      "epoch 18 batch  41 loss 0.0252 acc 0.9909 micro_f1 0.8808 macro_f1 0.6795\n",
      "epoch 18 batch  61 loss 0.0250 acc 0.9908 micro_f1 0.9015 macro_f1 0.7518\n",
      "Epoch 18 Loss 0.0249\n",
      "val accuracy 0.9827, micro f1 0.7794 macro f1 0.5808\n",
      "Time taken for 1 epoch 14.20 sec\n",
      "\n",
      "epoch 19 batch   1 loss 0.0216 acc 0.9921 micro_f1 0.9065 macro_f1 0.7205\n",
      "epoch 19 batch  21 loss 0.0236 acc 0.9914 micro_f1 0.8959 macro_f1 0.7371\n",
      "epoch 19 batch  41 loss 0.0244 acc 0.9911 micro_f1 0.8899 macro_f1 0.6939\n",
      "epoch 19 batch  61 loss 0.0247 acc 0.9910 micro_f1 0.8926 macro_f1 0.7563\n",
      "Epoch 19 Loss 0.0247\n",
      "val accuracy 0.9818, micro f1 0.7641 macro f1 0.5623\n",
      "Time taken for 1 epoch 14.31 sec\n",
      "\n",
      "epoch 20 batch   1 loss 0.0214 acc 0.9914 micro_f1 0.8979 macro_f1 0.7396\n",
      "epoch 20 batch  21 loss 0.0240 acc 0.9912 micro_f1 0.8998 macro_f1 0.7360\n",
      "epoch 20 batch  41 loss 0.0246 acc 0.9909 micro_f1 0.9017 macro_f1 0.7390\n",
      "epoch 20 batch  61 loss 0.0246 acc 0.9909 micro_f1 0.9048 macro_f1 0.7282\n",
      "Epoch 20 Loss 0.0246\n",
      "val accuracy 0.9823, micro f1 0.7734 macro f1 0.5691\n",
      "Time taken for 1 epoch 14.24 sec\n",
      "\n"
     ]
    }
   ],
   "source": [
    "train_step_signature = [\n",
    "    tf.TensorSpec(shape=(None, 128), dtype=tf.float32),\n",
    "    tf.TensorSpec(shape=(None, None), dtype=tf.float32),\n",
    "]\n",
    "\n",
    "@tf.function(input_signature=train_step_signature)\n",
    "def train_step(x, y):\n",
    "\n",
    "    with tf.GradientTape() as tape:\n",
    "        y_pred = model(x)  # 和transformer的区别\n",
    "        loss = loss_object(y, y_pred)\n",
    "\n",
    "    grads = tape.gradient(loss, model.trainable_variables)\n",
    "    optimizer.apply_gradients(zip(grads, model.trainable_variables))\n",
    "\n",
    "    train_loss(loss)\n",
    "    train_accuracy(y, y_pred)\n",
    "\n",
    "    mi_f1=micro_f1(y, y_pred)\n",
    "    ma_f1=macro_f1(y, y_pred)\n",
    "    return mi_f1, ma_f1, y_pred\n",
    "\n",
    "loss_record = []\n",
    "# 为了之后绘制曲线\n",
    "dev_micro = []\n",
    "dev_macro = []\n",
    "\n",
    "train_micro = []\n",
    "train_macro = []\n",
    "\n",
    "for epoch in range(epochs):\n",
    "    start = time.time()\n",
    "    \n",
    "    train_loss.reset_states()\n",
    "    train_accuracy.reset_states()\n",
    "    \n",
    "    train_y_true = []\n",
    "    train_y_pred = []\n",
    "    \n",
    "    \n",
    "    for batch, (x, y) in enumerate(train_dataset.take(steps_per_epoch)):\n",
    "        mi_f1 ,ma_f1, y_pred = train_step(x, y)\n",
    "        \n",
    "        train_y_pred.append(y_pred)\n",
    "        train_y_true.append(y)\n",
    "        if batch % 20 == 0:\n",
    "            print('epoch {} batch {:3d} loss {:.4f} acc {:.4f} micro_f1 {:.4f} macro_f1 {:.4f}'.format(\n",
    "                epoch+1, batch+1, train_loss.result(), \n",
    "                train_accuracy.result(), mi_f1, ma_f1))\n",
    "\n",
    "    loss_record.append(train_loss.result().numpy())  # 记录下每轮loss的变化\n",
    "    print('Epoch {} Loss {:.4f}'.format(epoch + 1, train_loss.result()))\n",
    "    \n",
    "    _, mi, ma = evaluation(model, dev_x, dev_y)\n",
    "    \n",
    "    train_y_true = tf.concat(train_y_true, axis=0)\n",
    "    train_y_pred = tf.concat(train_y_pred, axis=0)\n",
    "    \n",
    "    dev_micro.append(mi.numpy())\n",
    "    dev_macro.append(ma.numpy())\n",
    "    train_micro.append(micro_f1(train_y_true, train_y_pred).numpy())\n",
    "    train_macro.append(macro_f1(train_y_true, train_y_pred).numpy())\n",
    "    \n",
    "    print('Time taken for 1 epoch {:.2f} sec\\n'.format(time.time() - start))"
   ]
  },
  {
   "cell_type": "markdown",
   "metadata": {},
   "source": [
    "# 绘图"
   ]
  },
  {
   "cell_type": "code",
   "execution_count": 19,
   "metadata": {},
   "outputs": [],
   "source": [
    "import pandas as pd\n",
    "import matplotlib.pyplot as plt"
   ]
  },
  {
   "cell_type": "code",
   "execution_count": 20,
   "metadata": {},
   "outputs": [],
   "source": [
    "history = pd.DataFrame([loss_record, dev_micro, dev_macro, train_micro, train_macro],\n",
    "                        index=['train_loss', 'dev_micro', 'dev_macro', 'train_micro', 'train_macro']).T\n",
    "history.index += 1"
   ]
  },
  {
   "cell_type": "code",
   "execution_count": 27,
   "metadata": {},
   "outputs": [
    {
     "data": {
      "image/png": "[encoded data removed]",
      "text/plain": [
       "<Figure size 600x400 with 1 Axes>"
      ]
     },
     "metadata": {
      "needs_background": "light"
     },
     "output_type": "display_data"
    }
   ],
   "source": [
    "fig, ax = plt.subplots(dpi=100)\n",
    "ax.plot(history.dev_micro, c='b', marker='o', mfc='w', label='dev_micro')\n",
    "ax.plot(history.dev_macro, c='b', marker='^', mfc='w', label='dev_macro')\n",
    "ax.plot(history.train_micro, c='orange', marker='o', mfc='w', label='train_micro')\n",
    "ax.plot(history.train_macro, c='orange', marker='^', mfc='w', label='train_macro')\n",
    "ax.set_title('TextCNN')\n",
    "ax.set_xlabel('epochs')\n",
    "ax.set_xticks(history.index)\n",
    "plt.legend()\n",
    "plt.show()"
   ]
  },
  {
   "cell_type": "code",
   "execution_count": 26,
   "metadata": {},
   "outputs": [],
   "source": [
    "history.to_csv('notebook/TextCNN/textcnn_report.csv', index=None)"
   ]
  },
  {
   "cell_type": "markdown",
   "metadata": {},
   "source": [
    "# 预测"
   ]
  },
  {
   "cell_type": "code",
   "execution_count": 23,
   "metadata": {},
   "outputs": [],
   "source": [
    "y_pred = predict(model, test_x)"
   ]
  },
  {
   "cell_type": "code",
   "execution_count": 24,
   "metadata": {},
   "outputs": [],
   "source": [
    "mif1 = micro_f1(tf.cast(test_y, dtype=tf.float32), y_pred)\n",
    "maf1 = macro_f1(tf.cast(test_y, dtype=tf.float32), y_pred)"
   ]
  },
  {
   "cell_type": "code",
   "execution_count": 25,
   "metadata": {},
   "outputs": [
    {
     "name": "stdout",
     "output_type": "stream",
     "text": [
      "test micro f1: 0.7718 macro f1: 0.5630\n"
     ]
    }
   ],
   "source": [
    "print('test micro f1: {:.4f} macro f1: {:.4f}'.format(mif1.numpy(), maf1.numpy()))"
   ]
  }
 ],
 "metadata": {
  "kernelspec": {
   "display_name": "Python [conda env:tf2.0]",
   "language": "python",
   "name": "conda-env-tf2.0-py"
  },
  "language_info": {
   "codemirror_mode": {
    "name": "ipython",
    "version": 3
   },
   "file_extension": ".py",
   "mimetype": "text/x-python",
   "name": "python",
   "nbconvert_exporter": "python",
   "pygments_lexer": "ipython3",
   "version": "3.7.4"
  },
  "toc": {
   "base_numbering": 1,
   "nav_menu": {},
   "number_sections": true,
   "sideBar": true,
   "skip_h1_title": false,
   "title_cell": "Table of Contents",
   "title_sidebar": "Contents",
   "toc_cell": false,
   "toc_position": {},
   "toc_section_display": true,
   "toc_window_display": true
  },
  "varInspector": {
   "cols": {
    "lenName": 16,
    "lenType": 16,
    "lenVar": 40
   },
   "kernels_config": {
    "python": {
     "delete_cmd_postfix": "",
     "delete_cmd_prefix": "del ",
     "library": "var_list.py",
     "varRefreshCmd": "print(var_dic_list())"
    },
    "r": {
     "delete_cmd_postfix": ") ",
     "delete_cmd_prefix": "rm(",
     "library": "var_list.r",
     "varRefreshCmd": "cat(var_dic_list()) "
    }
   },
   "types_to_exclude": [
    "module",
    "function",
    "builtin_function_or_method",
    "instance",
    "_Feature"
   ],
   "window_display": false
  }
 },
 "nbformat": 4,
 "nbformat_minor": 2
}
